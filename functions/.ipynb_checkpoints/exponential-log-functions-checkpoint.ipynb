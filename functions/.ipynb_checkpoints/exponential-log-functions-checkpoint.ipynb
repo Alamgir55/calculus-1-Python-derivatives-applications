{
 "cells": [
  {
   "cell_type": "code",
   "execution_count": 1,
   "id": "d9e1b038",
   "metadata": {},
   "outputs": [],
   "source": [
    "import numpy as np\n",
    "import sympy as sym\n",
    "import matplotlib.pyplot as plt"
   ]
  },
  {
   "cell_type": "code",
   "execution_count": 6,
   "id": "3bc15c4a",
   "metadata": {},
   "outputs": [
    {
     "name": "stdout",
     "output_type": "stream",
     "text": [
      "n:  1, est.e: 2.00000, diff to e: 0.71828\n",
      "n:  2, est.e: 2.25000, diff to e: 0.46828\n",
      "n:  5, est.e: 2.48832, diff to e: 0.22996\n",
      "n: 10, est.e: 2.59374, diff to e: 0.12454\n"
     ]
    }
   ],
   "source": [
    "n = [1,2,5,10]\n",
    "\n",
    "for i in n:\n",
    "    e = (1+(1/i))**i\n",
    "    \n",
    "    print(f'n: {i:2.0f}, est.e: {e:.5f}, diff to e: {np.exp(1)-e:.5f}')"
   ]
  },
  {
   "cell_type": "code",
   "execution_count": null,
   "id": "9a7e1fc3",
   "metadata": {},
   "outputs": [],
   "source": []
  }
 ],
 "metadata": {
  "kernelspec": {
   "display_name": "Python 3 (ipykernel)",
   "language": "python",
   "name": "python3"
  },
  "language_info": {
   "codemirror_mode": {
    "name": "ipython",
    "version": 3
   },
   "file_extension": ".py",
   "mimetype": "text/x-python",
   "name": "python",
   "nbconvert_exporter": "python",
   "pygments_lexer": "ipython3",
   "version": "3.11.5"
  }
 },
 "nbformat": 4,
 "nbformat_minor": 5
}
